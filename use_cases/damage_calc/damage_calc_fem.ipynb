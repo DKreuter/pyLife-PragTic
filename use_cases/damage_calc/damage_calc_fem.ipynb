{
 "cells": [
  {
   "cell_type": "markdown",
   "metadata": {},
   "source": [
    "# Damage Calculation\n",
    "\n",
    "This notebook shows a general calculation stream for a nominal damage calculation.\n",
    "\n",
    "1. Define load cycles\n",
    "2. Define the material parameter\n",
    "3. Select the damage calculation method (Miner elementary, Miner-Haibach, ...)\n",
    "4. Calculate the damage for every load level and the damage sum\n"
   ]
  },
  {
   "cell_type": "code",
   "execution_count": null,
   "metadata": {},
   "outputs": [],
   "source": [
    "import numpy as np\n",
    "import pandas as pd\n",
    "import pylife.strength.fatigue\n",
    "import pylife.vmap\n",
    "import pylife.stress.equistress\n",
    "import plotly.express as px\n",
    "import pylife.mesh.meshsignal\n",
    "import pylife.mesh.hotspot\n",
    "import pylife.vmap\n",
    "import pyvista as pv"
   ]
  },
  {
   "cell_type": "markdown",
   "metadata": {},
   "source": [
    "### 1. Define load cycles\n"
   ]
  },
  {
   "cell_type": "code",
   "execution_count": null,
   "metadata": {},
   "outputs": [],
   "source": [
    "load_cycles = pd.DataFrame(\n",
    "    {\n",
    "        \"range\": [100, 50, 75, 25],\n",
    "        \"mean\": 0.0,\n",
    "        \"cycles\": [1e3, 5e3, 10e3, 25e3],\n",
    "    },\n",
    "    index=pd.Index([1, 2, 3, 4], name=\"load_event\")\n",
    ")"
   ]
  },
  {
   "cell_type": "code",
   "execution_count": null,
   "metadata": {},
   "outputs": [],
   "source": [
    "load_cycles"
   ]
  },
  {
   "cell_type": "code",
   "execution_count": null,
   "metadata": {},
   "outputs": [],
   "source": [
    "vm_mesh = pylife.vmap.VMAPImport(\"two_notched_beam.vmap\")\n",
    "mesh = (vm_mesh.make_mesh('beam', 'STATE-1')\n",
    "        .join_coordinates()\n",
    "        .join_variable('STRESS_CAUCHY')\n",
    "        .to_frame())"
   ]
  },
  {
   "cell_type": "code",
   "execution_count": null,
   "metadata": {},
   "outputs": [],
   "source": [
    "mesh['mises'] = mesh.equistress.mises() / 1000"
   ]
  },
  {
   "cell_type": "code",
   "execution_count": null,
   "metadata": {},
   "outputs": [],
   "source": [
    "mesh"
   ]
  },
  {
   "cell_type": "code",
   "execution_count": null,
   "metadata": {},
   "outputs": [],
   "source": [
    "grid = pv.UnstructuredGrid(*mesh.mesh.vtk_data())\n",
    "plotter = pv.Plotter()\n",
    "plotter.add_mesh(grid, scalars=mesh.groupby('element_id')['mises'].mean().to_numpy(), show_edges=True)\n",
    "plotter.add_scalar_bar()\n",
    "plotter.show()"
   ]
  },
  {
   "cell_type": "code",
   "execution_count": null,
   "metadata": {},
   "outputs": [],
   "source": [
    "scaled_collective = load_cycles.load_collective.scale(mesh['mises'])\n",
    "# scaled_collective.amplitude"
   ]
  },
  {
   "cell_type": "markdown",
   "metadata": {},
   "source": [
    "## 2. Define the material parameter\n"
   ]
  },
  {
   "cell_type": "code",
   "execution_count": null,
   "metadata": {},
   "outputs": [],
   "source": [
    "k_1 = 8\n",
    "mat = pd.Series(\n",
    "    {\n",
    "        \"k_1\": k_1,\n",
    "        'k_2' : 20,\n",
    "        \"ND\": 1.0e6,\n",
    "        \"SD\": 400.0,\n",
    "        \"TN\": 12.0,\n",
    "        \"TS\": 1.1,\n",
    "    }\n",
    ")\n",
    "# display(mat)"
   ]
  },
  {
   "cell_type": "code",
   "execution_count": null,
   "metadata": {},
   "outputs": [],
   "source": [
    "damage = mat.fatigue.miner_original().damage(scaled_collective)\n",
    "# damage"
   ]
  },
  {
   "cell_type": "code",
   "execution_count": null,
   "metadata": {},
   "outputs": [],
   "source": [
    "grouped_damage = damage.groupby([\"load_event\", \"element_id\"]).mean().groupby(\"element_id\").sum()\n",
    "grouped_damage[grouped_damage > 0.0]"
   ]
  },
  {
   "cell_type": "code",
   "execution_count": null,
   "metadata": {},
   "outputs": [],
   "source": [
    "mesh_result = mesh.join(grouped_damage)\n",
    "grid = pv.UnstructuredGrid(*mesh_result.mesh.vtk_data())\n",
    "plotter = pv.Plotter()\n",
    "plotter.add_mesh(grid, scalars=grouped_damage.to_numpy(), show_edges=True)\n",
    "plotter.add_scalar_bar()\n",
    "plotter.show()"
   ]
  }
 ],
 "metadata": {
  "kernelspec": {
   "display_name": "Python 3 (ipykernel)",
   "language": "python",
   "name": "python3"
  },
  "language_info": {
   "codemirror_mode": {
    "name": "ipython",
    "version": 3
   },
   "file_extension": ".py",
   "mimetype": "text/x-python",
   "name": "python",
   "nbconvert_exporter": "python",
   "pygments_lexer": "ipython3",
   "version": "3.10.13"
  }
 },
 "nbformat": 4,
 "nbformat_minor": 4
}

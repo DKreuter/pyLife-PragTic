{
 "cells": [
  {
   "cell_type": "markdown",
   "metadata": {},
   "source": [
    "# Damage Calculation\n",
    "\n",
    "This notebook shows a general calculation stream for a nominal damage calculation.\n",
    "\n",
    "1. Define load cycles\n",
    "2. Define the material parameter\n",
    "3. Select the damage calculation method (Miner elementary, Miner-Haibach, ...)\n",
    "4. Calculate the damage for every load level and the damage sum\n"
   ]
  },
  {
   "cell_type": "code",
   "execution_count": 1,
   "metadata": {},
   "outputs": [],
   "source": [
    "import numpy as np\n",
    "import pandas as pd\n",
    "import pylife.strength.fatigue\n",
    "import pylife.vmap\n",
    "import pylife.stress.equistress\n",
    "import plotly.express as px\n",
    "import pylife.mesh.meshsignal\n",
    "import pylife.mesh.hotspot\n",
    "import pylife.vmap\n",
    "import pyvista as pv"
   ]
  },
  {
   "cell_type": "markdown",
   "metadata": {},
   "source": [
    "### 1. Define load cycles\n"
   ]
  },
  {
   "cell_type": "code",
   "execution_count": 2,
   "metadata": {},
   "outputs": [],
   "source": [
    "load_cycles = pd.DataFrame(\n",
    "    {\n",
    "        \"range\": [100, 50, 75, 25],\n",
    "        \"mean\": 0.0,\n",
    "        \"cycles\": [1e3, 5e3, 10e3, 25e3],\n",
    "    },\n",
    "    index=pd.Index([1, 2, 3, 4], name=\"load_event\")\n",
    ")"
   ]
  },
  {
   "cell_type": "code",
   "execution_count": 3,
   "metadata": {},
   "outputs": [
    {
     "data": {
      "text/html": [
       "<div>\n",
       "<style scoped>\n",
       "    .dataframe tbody tr th:only-of-type {\n",
       "        vertical-align: middle;\n",
       "    }\n",
       "\n",
       "    .dataframe tbody tr th {\n",
       "        vertical-align: top;\n",
       "    }\n",
       "\n",
       "    .dataframe thead th {\n",
       "        text-align: right;\n",
       "    }\n",
       "</style>\n",
       "<table border=\"1\" class=\"dataframe\">\n",
       "  <thead>\n",
       "    <tr style=\"text-align: right;\">\n",
       "      <th></th>\n",
       "      <th>range</th>\n",
       "      <th>mean</th>\n",
       "      <th>cycles</th>\n",
       "    </tr>\n",
       "    <tr>\n",
       "      <th>load_event</th>\n",
       "      <th></th>\n",
       "      <th></th>\n",
       "      <th></th>\n",
       "    </tr>\n",
       "  </thead>\n",
       "  <tbody>\n",
       "    <tr>\n",
       "      <th>1</th>\n",
       "      <td>100</td>\n",
       "      <td>0.0</td>\n",
       "      <td>1000.0</td>\n",
       "    </tr>\n",
       "    <tr>\n",
       "      <th>2</th>\n",
       "      <td>50</td>\n",
       "      <td>0.0</td>\n",
       "      <td>5000.0</td>\n",
       "    </tr>\n",
       "    <tr>\n",
       "      <th>3</th>\n",
       "      <td>75</td>\n",
       "      <td>0.0</td>\n",
       "      <td>10000.0</td>\n",
       "    </tr>\n",
       "    <tr>\n",
       "      <th>4</th>\n",
       "      <td>25</td>\n",
       "      <td>0.0</td>\n",
       "      <td>25000.0</td>\n",
       "    </tr>\n",
       "  </tbody>\n",
       "</table>\n",
       "</div>"
      ],
      "text/plain": [
       "            range  mean   cycles\n",
       "load_event                      \n",
       "1             100   0.0   1000.0\n",
       "2              50   0.0   5000.0\n",
       "3              75   0.0  10000.0\n",
       "4              25   0.0  25000.0"
      ]
     },
     "execution_count": 3,
     "metadata": {},
     "output_type": "execute_result"
    }
   ],
   "source": [
    "load_cycles"
   ]
  },
  {
   "cell_type": "code",
   "execution_count": 4,
   "metadata": {},
   "outputs": [],
   "source": [
    "vm_mesh = pylife.vmap.VMAPImport(\"two_notched_beam.vmap\")\n",
    "mesh = (vm_mesh.make_mesh('beam', 'STATE-1')\n",
    "        .join_coordinates()\n",
    "        .join_variable('STRESS_CAUCHY')\n",
    "        .to_frame())"
   ]
  },
  {
   "cell_type": "code",
   "execution_count": 5,
   "metadata": {},
   "outputs": [],
   "source": [
    "mesh['mises'] = mesh.equistress.mises() / 1000"
   ]
  },
  {
   "cell_type": "code",
   "execution_count": 6,
   "metadata": {},
   "outputs": [
    {
     "data": {
      "text/html": [
       "<div>\n",
       "<style scoped>\n",
       "    .dataframe tbody tr th:only-of-type {\n",
       "        vertical-align: middle;\n",
       "    }\n",
       "\n",
       "    .dataframe tbody tr th {\n",
       "        vertical-align: top;\n",
       "    }\n",
       "\n",
       "    .dataframe thead th {\n",
       "        text-align: right;\n",
       "    }\n",
       "</style>\n",
       "<table border=\"1\" class=\"dataframe\">\n",
       "  <thead>\n",
       "    <tr style=\"text-align: right;\">\n",
       "      <th></th>\n",
       "      <th></th>\n",
       "      <th>x</th>\n",
       "      <th>y</th>\n",
       "      <th>z</th>\n",
       "      <th>S11</th>\n",
       "      <th>S22</th>\n",
       "      <th>S33</th>\n",
       "      <th>S12</th>\n",
       "      <th>S13</th>\n",
       "      <th>S23</th>\n",
       "      <th>mises</th>\n",
       "    </tr>\n",
       "    <tr>\n",
       "      <th>element_id</th>\n",
       "      <th>node_id</th>\n",
       "      <th></th>\n",
       "      <th></th>\n",
       "      <th></th>\n",
       "      <th></th>\n",
       "      <th></th>\n",
       "      <th></th>\n",
       "      <th></th>\n",
       "      <th></th>\n",
       "      <th></th>\n",
       "      <th></th>\n",
       "    </tr>\n",
       "  </thead>\n",
       "  <tbody>\n",
       "    <tr>\n",
       "      <th rowspan=\"5\" valign=\"top\">1</th>\n",
       "      <th>352</th>\n",
       "      <td>-43.969048</td>\n",
       "      <td>23.989227</td>\n",
       "      <td>0.0</td>\n",
       "      <td>1229.652344</td>\n",
       "      <td>-76.191574</td>\n",
       "      <td>-54.879715</td>\n",
       "      <td>-28.192242</td>\n",
       "      <td>4.629902</td>\n",
       "      <td>-3.550738</td>\n",
       "      <td>1.296279</td>\n",
       "    </tr>\n",
       "    <tr>\n",
       "      <th>359</th>\n",
       "      <td>-42.955109</td>\n",
       "      <td>24.005196</td>\n",
       "      <td>0.0</td>\n",
       "      <td>1229.652344</td>\n",
       "      <td>-76.191574</td>\n",
       "      <td>-54.879715</td>\n",
       "      <td>-28.192242</td>\n",
       "      <td>4.629902</td>\n",
       "      <td>-3.550738</td>\n",
       "      <td>1.296279</td>\n",
       "    </tr>\n",
       "    <tr>\n",
       "      <th>215</th>\n",
       "      <td>-43.000000</td>\n",
       "      <td>25.000000</td>\n",
       "      <td>0.0</td>\n",
       "      <td>1229.652344</td>\n",
       "      <td>-76.191574</td>\n",
       "      <td>-54.879715</td>\n",
       "      <td>-28.192242</td>\n",
       "      <td>4.629902</td>\n",
       "      <td>-3.550738</td>\n",
       "      <td>1.296279</td>\n",
       "    </tr>\n",
       "    <tr>\n",
       "      <th>216</th>\n",
       "      <td>-44.000000</td>\n",
       "      <td>25.000000</td>\n",
       "      <td>0.0</td>\n",
       "      <td>1229.652344</td>\n",
       "      <td>-76.191574</td>\n",
       "      <td>-54.879715</td>\n",
       "      <td>-28.192242</td>\n",
       "      <td>4.629902</td>\n",
       "      <td>-3.550738</td>\n",
       "      <td>1.296279</td>\n",
       "    </tr>\n",
       "    <tr>\n",
       "      <th>1271</th>\n",
       "      <td>-43.969048</td>\n",
       "      <td>23.989227</td>\n",
       "      <td>1.0</td>\n",
       "      <td>1229.652344</td>\n",
       "      <td>-76.191574</td>\n",
       "      <td>-54.879715</td>\n",
       "      <td>-28.192242</td>\n",
       "      <td>4.629902</td>\n",
       "      <td>-3.550738</td>\n",
       "      <td>1.296279</td>\n",
       "    </tr>\n",
       "    <tr>\n",
       "      <th>...</th>\n",
       "      <th>...</th>\n",
       "      <td>...</td>\n",
       "      <td>...</td>\n",
       "      <td>...</td>\n",
       "      <td>...</td>\n",
       "      <td>...</td>\n",
       "      <td>...</td>\n",
       "      <td>...</td>\n",
       "      <td>...</td>\n",
       "      <td>...</td>\n",
       "      <td>...</td>\n",
       "    </tr>\n",
       "    <tr>\n",
       "      <th rowspan=\"5\" valign=\"top\">8340</th>\n",
       "      <th>9186</th>\n",
       "      <td>-35.655140</td>\n",
       "      <td>17.474123</td>\n",
       "      <td>9.0</td>\n",
       "      <td>1054.807251</td>\n",
       "      <td>-448.547363</td>\n",
       "      <td>-0.840952</td>\n",
       "      <td>-402.977814</td>\n",
       "      <td>-11.581802</td>\n",
       "      <td>10.506829</td>\n",
       "      <td>1.508430</td>\n",
       "    </tr>\n",
       "    <tr>\n",
       "      <th>10106</th>\n",
       "      <td>-36.133118</td>\n",
       "      <td>17.862680</td>\n",
       "      <td>10.0</td>\n",
       "      <td>1054.807251</td>\n",
       "      <td>-448.547363</td>\n",
       "      <td>-0.840952</td>\n",
       "      <td>-402.977814</td>\n",
       "      <td>-11.581802</td>\n",
       "      <td>10.506829</td>\n",
       "      <td>1.508430</td>\n",
       "    </tr>\n",
       "    <tr>\n",
       "      <th>9903</th>\n",
       "      <td>-36.538712</td>\n",
       "      <td>17.142405</td>\n",
       "      <td>10.0</td>\n",
       "      <td>1054.807251</td>\n",
       "      <td>-448.547363</td>\n",
       "      <td>-0.840952</td>\n",
       "      <td>-402.977814</td>\n",
       "      <td>-11.581802</td>\n",
       "      <td>10.506829</td>\n",
       "      <td>1.508430</td>\n",
       "    </tr>\n",
       "    <tr>\n",
       "      <th>9796</th>\n",
       "      <td>-35.728638</td>\n",
       "      <td>16.920214</td>\n",
       "      <td>10.0</td>\n",
       "      <td>1054.807251</td>\n",
       "      <td>-448.547363</td>\n",
       "      <td>-0.840952</td>\n",
       "      <td>-402.977814</td>\n",
       "      <td>-11.581802</td>\n",
       "      <td>10.506829</td>\n",
       "      <td>1.508430</td>\n",
       "    </tr>\n",
       "    <tr>\n",
       "      <th>10105</th>\n",
       "      <td>-35.655140</td>\n",
       "      <td>17.474123</td>\n",
       "      <td>10.0</td>\n",
       "      <td>1054.807251</td>\n",
       "      <td>-448.547363</td>\n",
       "      <td>-0.840952</td>\n",
       "      <td>-402.977814</td>\n",
       "      <td>-11.581802</td>\n",
       "      <td>10.506829</td>\n",
       "      <td>1.508430</td>\n",
       "    </tr>\n",
       "  </tbody>\n",
       "</table>\n",
       "<p>66720 rows × 10 columns</p>\n",
       "</div>"
      ],
      "text/plain": [
       "                            x          y     z          S11         S22  \\\n",
       "element_id node_id                                                        \n",
       "1          352     -43.969048  23.989227   0.0  1229.652344  -76.191574   \n",
       "           359     -42.955109  24.005196   0.0  1229.652344  -76.191574   \n",
       "           215     -43.000000  25.000000   0.0  1229.652344  -76.191574   \n",
       "           216     -44.000000  25.000000   0.0  1229.652344  -76.191574   \n",
       "           1271    -43.969048  23.989227   1.0  1229.652344  -76.191574   \n",
       "...                       ...        ...   ...          ...         ...   \n",
       "8340       9186    -35.655140  17.474123   9.0  1054.807251 -448.547363   \n",
       "           10106   -36.133118  17.862680  10.0  1054.807251 -448.547363   \n",
       "           9903    -36.538712  17.142405  10.0  1054.807251 -448.547363   \n",
       "           9796    -35.728638  16.920214  10.0  1054.807251 -448.547363   \n",
       "           10105   -35.655140  17.474123  10.0  1054.807251 -448.547363   \n",
       "\n",
       "                          S33         S12        S13        S23     mises  \n",
       "element_id node_id                                                         \n",
       "1          352     -54.879715  -28.192242   4.629902  -3.550738  1.296279  \n",
       "           359     -54.879715  -28.192242   4.629902  -3.550738  1.296279  \n",
       "           215     -54.879715  -28.192242   4.629902  -3.550738  1.296279  \n",
       "           216     -54.879715  -28.192242   4.629902  -3.550738  1.296279  \n",
       "           1271    -54.879715  -28.192242   4.629902  -3.550738  1.296279  \n",
       "...                       ...         ...        ...        ...       ...  \n",
       "8340       9186     -0.840952 -402.977814 -11.581802  10.506829  1.508430  \n",
       "           10106    -0.840952 -402.977814 -11.581802  10.506829  1.508430  \n",
       "           9903     -0.840952 -402.977814 -11.581802  10.506829  1.508430  \n",
       "           9796     -0.840952 -402.977814 -11.581802  10.506829  1.508430  \n",
       "           10105    -0.840952 -402.977814 -11.581802  10.506829  1.508430  \n",
       "\n",
       "[66720 rows x 10 columns]"
      ]
     },
     "execution_count": 6,
     "metadata": {},
     "output_type": "execute_result"
    }
   ],
   "source": [
    "mesh"
   ]
  },
  {
   "cell_type": "code",
   "execution_count": 7,
   "metadata": {},
   "outputs": [
    {
     "data": {
      "application/vnd.jupyter.widget-view+json": {
       "model_id": "46399c9432f841418a24ed680e0bda7d",
       "version_major": 2,
       "version_minor": 0
      },
      "text/plain": [
       "Widget(value='<iframe src=\"http://localhost:49382/index.html?ui=P_0x21a5e963640_0&reconnect=auto\" class=\"pyvis…"
      ]
     },
     "metadata": {},
     "output_type": "display_data"
    }
   ],
   "source": [
    "grid = pv.UnstructuredGrid(*mesh.mesh.vtk_data())\n",
    "plotter = pv.Plotter()\n",
    "plotter.add_mesh(grid, scalars=mesh.groupby('element_id')['mises'].mean().to_numpy(), show_edges=True)\n",
    "plotter.add_scalar_bar()\n",
    "plotter.show()"
   ]
  },
  {
   "cell_type": "code",
   "execution_count": 8,
   "metadata": {},
   "outputs": [],
   "source": [
    "scaled_collective = load_cycles.load_collective.scale(mesh['mises'])\n",
    "# scaled_collective.amplitude"
   ]
  },
  {
   "cell_type": "markdown",
   "metadata": {},
   "source": [
    "## 2. Define the material parameter\n"
   ]
  },
  {
   "cell_type": "code",
   "execution_count": 9,
   "metadata": {},
   "outputs": [],
   "source": [
    "k_1 = 8\n",
    "mat = pd.Series(\n",
    "    {\n",
    "        \"k_1\": k_1,\n",
    "        'k_2' : 20,\n",
    "        \"ND\": 1.0e6,\n",
    "        \"SD\": 400.0,\n",
    "        \"TN\": 12.0,\n",
    "        \"TS\": 1.1,\n",
    "    }\n",
    ")\n",
    "# display(mat)"
   ]
  },
  {
   "cell_type": "code",
   "execution_count": 10,
   "metadata": {},
   "outputs": [],
   "source": [
    "damage = mat.fatigue.miner_original().damage(scaled_collective)\n",
    "# damage"
   ]
  },
  {
   "cell_type": "code",
   "execution_count": 11,
   "metadata": {},
   "outputs": [
    {
     "data": {
      "text/plain": [
       "element_id\n",
       "38      0.001666\n",
       "872     0.003767\n",
       "1191    0.001882\n",
       "1706    0.003035\n",
       "2025    0.001709\n",
       "2540    0.003198\n",
       "2859    0.001751\n",
       "3374    0.003074\n",
       "3693    0.001728\n",
       "4208    0.003074\n",
       "4527    0.001728\n",
       "5042    0.003198\n",
       "5361    0.001751\n",
       "5876    0.003035\n",
       "6195    0.001709\n",
       "6710    0.003767\n",
       "7029    0.001882\n",
       "7544    0.001666\n",
       "Name: damage, dtype: float64"
      ]
     },
     "execution_count": 11,
     "metadata": {},
     "output_type": "execute_result"
    }
   ],
   "source": [
    "grouped_damage = damage.groupby([\"load_event\", \"element_id\"]).mean().groupby(\"element_id\").sum()\n",
    "grouped_damage[grouped_damage > 0.0]"
   ]
  },
  {
   "cell_type": "code",
   "execution_count": 12,
   "metadata": {},
   "outputs": [
    {
     "data": {
      "application/vnd.jupyter.widget-view+json": {
       "model_id": "33c8492118824642858286b8a47fd366",
       "version_major": 2,
       "version_minor": 0
      },
      "text/plain": [
       "Widget(value='<iframe src=\"http://localhost:49382/index.html?ui=P_0x21a5e992f50_1&reconnect=auto\" class=\"pyvis…"
      ]
     },
     "metadata": {},
     "output_type": "display_data"
    }
   ],
   "source": [
    "mesh_result = mesh.join(grouped_damage)\n",
    "grid = pv.UnstructuredGrid(*mesh_result.mesh.vtk_data())\n",
    "plotter = pv.Plotter()\n",
    "plotter.add_mesh(grid, scalars=grouped_damage.to_numpy(), show_edges=True)\n",
    "plotter.add_scalar_bar()\n",
    "plotter.show()"
   ]
  }
 ],
 "metadata": {
  "kernelspec": {
   "display_name": "Python 3 (ipykernel)",
   "language": "python",
   "name": "python3"
  },
  "language_info": {
   "codemirror_mode": {
    "name": "ipython",
    "version": 3
   },
   "file_extension": ".py",
   "mimetype": "text/x-python",
   "name": "python",
   "nbconvert_exporter": "python",
   "pygments_lexer": "ipython3",
   "version": "3.10.13"
  }
 },
 "nbformat": 4,
 "nbformat_minor": 4
}

{
 "cells": [
  {
   "cell_type": "markdown",
   "metadata": {},
   "source": [
    "# Damage Calculation \n",
    "\n",
    "This Notebook shows a general calculation stream for a nominal damage calculation.\n",
    "\n",
    "1. Define load cycles\n",
    "2. Define the material parameter\n",
    "3. Select the damage calculation method (Miner elementary, Miner-Haibach, ...)\n",
    "4. Calculate the damage for every load level and the damage sum\n",
    "5. Calculate the failure probability with or w/o field scatter"
   ]
  },
  {
   "cell_type": "code",
   "execution_count": 30,
   "metadata": {},
   "outputs": [],
   "source": [
    "import numpy as np\n",
    "import pandas as pd\n",
    "import pylife.strength.fatigue\n",
    "import matplotlib.pyplot as plt\n",
    "import plotly.express as px"
   ]
  },
  {
   "cell_type": "markdown",
   "metadata": {},
   "source": [
    "### 1. Define load cycles"
   ]
  },
  {
   "cell_type": "code",
   "execution_count": 52,
   "metadata": {},
   "outputs": [],
   "source": [
    "import pickle\n",
    "loads = pickle.load(open(\"collectives.p\", \"rb\"))\n",
    "loads\n",
    "load_cycles =  pd.DataFrame(\n",
    "    {\"amplitude\": [100, 50, 75, 25],\n",
    "     \"cycles\": [1e3, 5e3, 10e3, 25e3],\n",
    "     }\n",
    "    )"
   ]
  },
  {
   "cell_type": "code",
   "execution_count": 53,
   "metadata": {},
   "outputs": [
    {
     "data": {
      "text/html": [
       "<div>\n",
       "<style scoped>\n",
       "    .dataframe tbody tr th:only-of-type {\n",
       "        vertical-align: middle;\n",
       "    }\n",
       "\n",
       "    .dataframe tbody tr th {\n",
       "        vertical-align: top;\n",
       "    }\n",
       "\n",
       "    .dataframe thead th {\n",
       "        text-align: right;\n",
       "    }\n",
       "</style>\n",
       "<table border=\"1\" class=\"dataframe\">\n",
       "  <thead>\n",
       "    <tr style=\"text-align: right;\">\n",
       "      <th></th>\n",
       "      <th>amplitude</th>\n",
       "      <th>cycles</th>\n",
       "    </tr>\n",
       "  </thead>\n",
       "  <tbody>\n",
       "    <tr>\n",
       "      <th>0</th>\n",
       "      <td>100</td>\n",
       "      <td>1000.0</td>\n",
       "    </tr>\n",
       "    <tr>\n",
       "      <th>1</th>\n",
       "      <td>50</td>\n",
       "      <td>5000.0</td>\n",
       "    </tr>\n",
       "    <tr>\n",
       "      <th>2</th>\n",
       "      <td>75</td>\n",
       "      <td>10000.0</td>\n",
       "    </tr>\n",
       "    <tr>\n",
       "      <th>3</th>\n",
       "      <td>25</td>\n",
       "      <td>25000.0</td>\n",
       "    </tr>\n",
       "  </tbody>\n",
       "</table>\n",
       "</div>"
      ],
      "text/plain": [
       "   amplitude   cycles\n",
       "0        100   1000.0\n",
       "1         50   5000.0\n",
       "2         75  10000.0\n",
       "3         25  25000.0"
      ]
     },
     "execution_count": 53,
     "metadata": {},
     "output_type": "execute_result"
    }
   ],
   "source": [
    "load_cycles"
   ]
  },
  {
   "cell_type": "markdown",
   "metadata": {},
   "source": [
    "## 2. Define the material parameter"
   ]
  },
  {
   "cell_type": "code",
   "execution_count": 54,
   "metadata": {},
   "outputs": [
    {
     "data": {
      "text/html": [
       "<div>\n",
       "<style scoped>\n",
       "    .dataframe tbody tr th:only-of-type {\n",
       "        vertical-align: middle;\n",
       "    }\n",
       "\n",
       "    .dataframe tbody tr th {\n",
       "        vertical-align: top;\n",
       "    }\n",
       "\n",
       "    .dataframe thead th {\n",
       "        text-align: right;\n",
       "    }\n",
       "</style>\n",
       "<table border=\"1\" class=\"dataframe\">\n",
       "  <thead>\n",
       "    <tr style=\"text-align: right;\">\n",
       "      <th></th>\n",
       "      <th>k_1</th>\n",
       "      <th>k_2</th>\n",
       "      <th>ND</th>\n",
       "      <th>SD</th>\n",
       "      <th>TN</th>\n",
       "      <th>TS</th>\n",
       "    </tr>\n",
       "  </thead>\n",
       "  <tbody>\n",
       "    <tr>\n",
       "      <th>0</th>\n",
       "      <td>8.0</td>\n",
       "      <td>15.0</td>\n",
       "      <td>1000000.0</td>\n",
       "      <td>100.0</td>\n",
       "      <td>12.0</td>\n",
       "      <td>1.1</td>\n",
       "    </tr>\n",
       "  </tbody>\n",
       "</table>\n",
       "</div>"
      ],
      "text/plain": [
       "   k_1   k_2         ND     SD    TN   TS\n",
       "0  8.0  15.0  1000000.0  100.0  12.0  1.1"
      ]
     },
     "metadata": {},
     "output_type": "display_data"
    }
   ],
   "source": [
    "k_1 = 8\n",
    "mat = pd.Series({\n",
    "    'k_1': k_1,\n",
    "    'k_2' : 2 * k_1 - 1,\n",
    "    'ND': 1.0e6,\n",
    "    'SD': 100.0,\n",
    "    'TN': 12.,\n",
    "    'TS': 1.1\n",
    "})\n",
    "display(mat.to_frame().T)"
   ]
  },
  {
   "cell_type": "markdown",
   "metadata": {},
   "source": [
    "### Damage Calculation\n",
    "Now we can calculate the damage for every loadstep and summarize this damage to get the total damage."
   ]
  },
  {
   "cell_type": "code",
   "execution_count": 55,
   "metadata": {},
   "outputs": [
    {
     "name": "stdout",
     "output_type": "stream",
     "text": [
      "total damage sum miner_original :  1.13e-03\n",
      "total damage sum miner_elementary :  2.02e-03\n",
      "total damage sum miner_haibach :  1.13e-03\n"
     ]
    }
   ],
   "source": [
    "damage = {\n",
    "    \"miner_original\": mat.fatigue.damage(load_cycles),\n",
    "    \"miner_elementary\": mat.fatigue.miner_elementary().damage(load_cycles),\n",
    "    \"miner_haibach\": mat.fatigue.miner_haibach().damage(load_cycles),\n",
    "}\n",
    "pr_out = [print(\"total damage sum \" + k + \" :  %.2e\" %v.sum()) for k, v in damage.items()]"
   ]
  },
  {
   "cell_type": "markdown",
   "metadata": {
    "collapsed": true,
    "jupyter": {
     "outputs_hidden": true
    }
   },
   "source": [
    "#### Plot the damage vs collectives\n",
    "\n",
    "define new materials and plot it"
   ]
  },
  {
   "cell_type": "code",
   "execution_count": 58,
   "metadata": {},
   "outputs": [
    {
     "data": {
      "application/vnd.plotly.v1+json": {
       "config": {
        "plotlyServerURL": "https://plot.ly"
       },
       "data": [
        {
         "alignmentgroup": "True",
         "hovertemplate": "cycles=%{x}<br>amplitude=%{y}<extra></extra>",
         "legendgroup": "",
         "marker": {
          "color": "#636efa",
          "pattern": {
           "shape": ""
          }
         },
         "name": "",
         "offsetgroup": "",
         "orientation": "h",
         "showlegend": false,
         "textposition": "auto",
         "type": "bar",
         "x": [
          1000,
          5000,
          10000,
          25000
         ],
         "xaxis": "x",
         "y": [
          100,
          50,
          75,
          25
         ],
         "yaxis": "y"
        },
        {
         "name": "sn curve",
         "type": "scatter",
         "x": [
          10,
          11.357333583431052,
          12.898902612533087,
          14.649713983072855,
          16.63816886076129,
          18.896523396912098,
          21.461411978584035,
          24.374441501222204,
          27.682866303920665,
          31.440354715915,
          35.707859649004625,
          40.5546073584083,
          46.05922041145106,
          52.31099308056263,
          59.41133984965034,
          67.47544053110693,
          76.63410868007459,
          87.03591361485165,
          98.84959046625586,
          112.26677735108136,
          127.50512407130128,
          144.8118227674533,
          164.46761779946644,
          186.79135990207828,
          212.14517849106298,
          240.9403560239527,
          273.6439997074672,
          310.7866187782014,
          352.970730273065,
          400.8806328898465,
          455.29350748669475,
          517.092024289676,
          587.2786613189483,
          666.9919663030122,
          757.525025877192,
          860.3464416684509,
          977.1241535346502,
          1109.752496412072,
          1260.3829296797273,
          1431.45893752348,
          1625.755666443795,
          1846.4249428955445,
          2097.0464013232327,
          2381.6855519761584,
          2704.959730463137,
          3072.112998861759,
          3489.1012134067737,
          3962.6886387014783,
          4500.557675700497,
          5111.433483440171,
          5805.225516094902,
          6593.188271333548,
          7488.103857590023,
          8504.489341802686,
          9658.832241158709,
          10969.857978923841,
          12458.833642950081,
          14149.91297434576,
          16070.528182616385,
          18251.83494319046,
          20729.2177959537,
          23542.864143224204,
          26738.416158399494,
          30367.711180354607,
          34489.6226040576,
          39171.014908092606,
          44487.82831127585,
          50526.3106533568,
          57384.41648302404,
          65173.3960488242,
          74019.59996915652,
          84066.52885618334,
          95477.16114208066,
          108436.59686896109,
          123155.06032928261,
          139871.31026472387,
          158856.51294280528,
          180418.64093920717,
          204907.46898158503,
          232720.2478960412,
          264308.1486974108,
          300183.5813575592,
          340928.50697468146,
          387203.8781812557,
          439760.36093027215,
          499450.511585514,
          567242.6068491978,
          644236.3508721384,
          731680.7143427207,
          830994.1949353404,
          943787.8277775391,
          1071891.3192051286,
          1217382.727739662,
          1382622.1737646563,
          1570290.1247293775,
          1783430.8769319092,
          2025501.9392306665,
          2300430.119772922,
          2612675.225563332,
          2967302.4081888725,
          3370064.3292719317,
          3827494.478516315,
          4347013.158125026,
          4937047.852839003,
          5607169.938205458,
          6368249.944718586,
          7232633.896483548,
          8214343.584919439,
          9329304.026284697,
          10595601.79277617,
          12033778.407775905,
          13667163.564620074,
          15522253.57427048,
          17629141.180959478,
          20022003.718155846,
          22739657.52357932,
          25826187.6068268,
          29331662.783900484,
          33312947.87934677,
          37834626.17131933,
          42970047.04320844,
          48802515.836544335,
          55426645.20663107,
          62949889.90221888,
          71494289.86597592,
          81198449.93184026,
          92219788.23334341,
          104737089.79594487,
          118953406.73703207,
          135099352.11980307,
          153436840.89300132,
          174263338.60096473,
          197916686.78535575,
          224780583.354873,
          255290806.82395166,
          289942285.38828814,
          329297125.50971615,
          373993730.24788016,
          424757155.2536894,
          482410870.41653734,
          547890117.9593956,
          622257083.6730231,
          706718127.3927506,
          802643352.2257206,
          911588829.9750837,
          1035321843.2956616,
          1175849554.052158,
          1335451562.9299028,
          1516716888.4709241,
          1722585965.398791,
          1956398343.5170648,
          2221946860.9395285,
          2523539170.434766,
          2866067616.948256,
          3255088599.8350563,
          3696912707.195032,
          4198707084.443923,
          4768611697.714475,
          5415871378.079487,
          6150985788.580504,
          6985879746.785263,
          7934096665.797492,
          9011018251.665037,
          10234114021.054527,
          11623224686.798542,
          13200884008.314222,
          14992684327.860472,
          17027691722.259048,
          19338917504.552322,
          21963853724.165516,
          24945081352.303165,
          28330961018.3933,
          32176417502.507355,
          36543830709.57262,
          41504047578.5049,
          47137531341.16729,
          53535666774.10741,
          60802242616.49427,
          69055135201.62344,
          78428220613.37682,
          89073546386.10458,
          101163797976.6207,
          114895100018.7311,
          130490197801.44069,
          148202070579.88602,
          168318035333.0962,
          191164407538.57037,
          217111794569.451,
          246581107582.26038,
          280050389418.36365,
          318062569279.4119,
          361234269970.9438,
          410265810582.71906,
          465952566866.4687,
          529197873595.8458,
          601027678207.0388,
          682607183427.2407,
          775259748862.9464,
          880488358164.3483,
          1000000000000
         ],
         "y": [
          421.6965034285822,
          415.0404757850476,
          408.489506408848,
          402.0419370677577,
          395.6961357029701,
          389.45049601597924,
          383.30343706198045,
          377.2534028496895,
          371.298861947478,
          365.43830709572563,
          359.6702548252908,
          353.99324508200334,
          348.4058408570845,
          342.90662782339984,
          337.494213977454,
          332.1672292870358,
          326.92432534442514,
          321.7641750250736,
          316.6854721516723,
          311.6869311635222,
          306.76728679112284,
          301.9252937358979,
          297.1597263549751,
          292.46937835094207,
          287.85306246649947,
          283.30961018393236,
          278.83787142932675,
          274.43671428145325,
          270.1050246852469,
          265.84170616980873,
          261.6456795708584,
          257.515882757568,
          253.45127036370715,
          249.4508135230316,
          245.51349960884897,
          241.63833197769455,
          237.82432971705325,
          234.07052739706344,
          230.37597482613975,
          226.73973681045334,
          223.16089291720834,
          219.63853724165463,
          216.17177817777832,
          212.75973819261154,
          209.40155360410438,
          206.096374362503,
          202.84336383517854,
          199.64169859485204,
          196.49056821116227,
          193.38917504552307,
          190.3367340492193,
          187.33247256468871,
          184.37563012994121,
          181.46545828606472,
          178.6012203877695,
          175.78219141692256,
          173.00765779902574,
          170.27691722259,
          167.58927846136095,
          164.94406119935016,
          162.34059585862872,
          159.7782234298378,
          157.25629530537572,
          154.77417311521697,
          152.33122856532322,
          149.92684327860454,
          147.56040863839112,
          145.2313256343753,
          142.93900471098564,
          140.68286561815398,
          138.46233726443785,
          136.2768575724617,
          134.12587333663922,
          132.00884008314176,
          129.925221932077,
          127.87449146184264,
          125.85612957562154,
          123.86962536998377,
          121.91447600556286,
          119.99018657977325,
          118.09627000153651,
          116.23224686798524,
          114.39764534311279,
          112.59200103833852,
          110.8148568949582,
          109.06576306844964,
          107.34427681460465,
          105.64996237745812,
          103.98239087898622,
          102.3411402105453,
          100.72579492602456,
          99.53823823851411,
          98.69720580359626,
          97.86327953781606,
          97.0363993987331,
          96.21650585122606,
          95.40353986320605,
          94.59744290136643,
          93.79815692696837,
          93.00562439166205,
          92.21978823334327,
          91.44059187204493,
          90.66797920586338,
          89.90189460691894,
          89.1422829173509,
          88.38908944534603,
          87.64225996120084,
          86.90174069341707,
          86.16747832483011,
          85.43941998877025,
          84.71751326525624,
          84.00170617722105,
          83.29194718676963,
          82.58818519146809,
          81.89036952066441,
          81.19844993184012,
          80.5123766069929,
          79.83210014904972,
          79.15757157831015,
          78.48874232891994,
          77.82556424537427,
          77.16798957905054,
          76.51597098477055,
          75.86946151739157,
          75.22841462842635,
          74.59278416269169,
          73.96252435498519,
          73.33758982679024,
          72.71793558300871,
          72.10351700872141,
          71.49428986597577,
          70.89021029060073,
          70.29123478904846,
          69.69732023526302,
          69.10842386757515,
          68.52450328562344,
          67.94551644730159,
          67.37142166573138,
          66.80217760626115,
          66.23774328348982,
          65.67807805831585,
          65.12314163501138,
          64.57289405832078,
          64.02729571058401,
          63.486307308884136,
          62.94988990221888,
          62.418004868696265,
          61.89061391275384,
          61.367679062401415,
          60.849162666486954,
          60.33502739198594,
          59.82523622131316,
          59.31975244965769,
          58.81853968233993,
          58.321561832191406,
          57.82878311695631,
          57.34016805671535,
          56.855681471331145,
          56.37528847791522,
          55.898954488316534,
          55.42664520663105,
          54.95832662673254,
          54.49396502982409,
          54.03352698201035,
          53.57697933189034,
          53.12428920817055,
          52.67542401729821,
          52.23035144111454,
          51.789039434527936,
          51.35145622320659,
          50.91757030129093,
          50.48735042912499,
          50.060765631007406,
          49.63778519296096,
          49.21837866052133,
          48.80251583654431,
          48.39016677903161,
          47.98130179897511,
          47.57589145821919,
          47.17390656734124,
          46.775318183549984,
          46.38009760860168,
          45.98821638673375,
          45.59964630261608,
          45.21435937931948,
          44.83232787630131,
          44.45352428740827,
          44.077921338895834,
          43.705491987464704,
          43.33620941831352,
          42.97004704320841,
          42.60697849856844,
          42.2469776435676,
          41.890018558252564,
          41.53607554167655,
          41.18512311004882,
          40.8371359948998,
          40.492089141261886,
          40.14995770586534,
          39.81071705534973
         ]
        }
       ],
       "layout": {
        "barmode": "relative",
        "legend": {
         "tracegroupgap": 0
        },
        "margin": {
         "t": 60
        },
        "template": {
         "data": {
          "bar": [
           {
            "error_x": {
             "color": "#2a3f5f"
            },
            "error_y": {
             "color": "#2a3f5f"
            },
            "marker": {
             "line": {
              "color": "#E5ECF6",
              "width": 0.5
             },
             "pattern": {
              "fillmode": "overlay",
              "size": 10,
              "solidity": 0.2
             }
            },
            "type": "bar"
           }
          ],
          "barpolar": [
           {
            "marker": {
             "line": {
              "color": "#E5ECF6",
              "width": 0.5
             },
             "pattern": {
              "fillmode": "overlay",
              "size": 10,
              "solidity": 0.2
             }
            },
            "type": "barpolar"
           }
          ],
          "carpet": [
           {
            "aaxis": {
             "endlinecolor": "#2a3f5f",
             "gridcolor": "white",
             "linecolor": "white",
             "minorgridcolor": "white",
             "startlinecolor": "#2a3f5f"
            },
            "baxis": {
             "endlinecolor": "#2a3f5f",
             "gridcolor": "white",
             "linecolor": "white",
             "minorgridcolor": "white",
             "startlinecolor": "#2a3f5f"
            },
            "type": "carpet"
           }
          ],
          "choropleth": [
           {
            "colorbar": {
             "outlinewidth": 0,
             "ticks": ""
            },
            "type": "choropleth"
           }
          ],
          "contour": [
           {
            "colorbar": {
             "outlinewidth": 0,
             "ticks": ""
            },
            "colorscale": [
             [
              0,
              "#0d0887"
             ],
             [
              0.1111111111111111,
              "#46039f"
             ],
             [
              0.2222222222222222,
              "#7201a8"
             ],
             [
              0.3333333333333333,
              "#9c179e"
             ],
             [
              0.4444444444444444,
              "#bd3786"
             ],
             [
              0.5555555555555556,
              "#d8576b"
             ],
             [
              0.6666666666666666,
              "#ed7953"
             ],
             [
              0.7777777777777778,
              "#fb9f3a"
             ],
             [
              0.8888888888888888,
              "#fdca26"
             ],
             [
              1,
              "#f0f921"
             ]
            ],
            "type": "contour"
           }
          ],
          "contourcarpet": [
           {
            "colorbar": {
             "outlinewidth": 0,
             "ticks": ""
            },
            "type": "contourcarpet"
           }
          ],
          "heatmap": [
           {
            "colorbar": {
             "outlinewidth": 0,
             "ticks": ""
            },
            "colorscale": [
             [
              0,
              "#0d0887"
             ],
             [
              0.1111111111111111,
              "#46039f"
             ],
             [
              0.2222222222222222,
              "#7201a8"
             ],
             [
              0.3333333333333333,
              "#9c179e"
             ],
             [
              0.4444444444444444,
              "#bd3786"
             ],
             [
              0.5555555555555556,
              "#d8576b"
             ],
             [
              0.6666666666666666,
              "#ed7953"
             ],
             [
              0.7777777777777778,
              "#fb9f3a"
             ],
             [
              0.8888888888888888,
              "#fdca26"
             ],
             [
              1,
              "#f0f921"
             ]
            ],
            "type": "heatmap"
           }
          ],
          "heatmapgl": [
           {
            "colorbar": {
             "outlinewidth": 0,
             "ticks": ""
            },
            "colorscale": [
             [
              0,
              "#0d0887"
             ],
             [
              0.1111111111111111,
              "#46039f"
             ],
             [
              0.2222222222222222,
              "#7201a8"
             ],
             [
              0.3333333333333333,
              "#9c179e"
             ],
             [
              0.4444444444444444,
              "#bd3786"
             ],
             [
              0.5555555555555556,
              "#d8576b"
             ],
             [
              0.6666666666666666,
              "#ed7953"
             ],
             [
              0.7777777777777778,
              "#fb9f3a"
             ],
             [
              0.8888888888888888,
              "#fdca26"
             ],
             [
              1,
              "#f0f921"
             ]
            ],
            "type": "heatmapgl"
           }
          ],
          "histogram": [
           {
            "marker": {
             "pattern": {
              "fillmode": "overlay",
              "size": 10,
              "solidity": 0.2
             }
            },
            "type": "histogram"
           }
          ],
          "histogram2d": [
           {
            "colorbar": {
             "outlinewidth": 0,
             "ticks": ""
            },
            "colorscale": [
             [
              0,
              "#0d0887"
             ],
             [
              0.1111111111111111,
              "#46039f"
             ],
             [
              0.2222222222222222,
              "#7201a8"
             ],
             [
              0.3333333333333333,
              "#9c179e"
             ],
             [
              0.4444444444444444,
              "#bd3786"
             ],
             [
              0.5555555555555556,
              "#d8576b"
             ],
             [
              0.6666666666666666,
              "#ed7953"
             ],
             [
              0.7777777777777778,
              "#fb9f3a"
             ],
             [
              0.8888888888888888,
              "#fdca26"
             ],
             [
              1,
              "#f0f921"
             ]
            ],
            "type": "histogram2d"
           }
          ],
          "histogram2dcontour": [
           {
            "colorbar": {
             "outlinewidth": 0,
             "ticks": ""
            },
            "colorscale": [
             [
              0,
              "#0d0887"
             ],
             [
              0.1111111111111111,
              "#46039f"
             ],
             [
              0.2222222222222222,
              "#7201a8"
             ],
             [
              0.3333333333333333,
              "#9c179e"
             ],
             [
              0.4444444444444444,
              "#bd3786"
             ],
             [
              0.5555555555555556,
              "#d8576b"
             ],
             [
              0.6666666666666666,
              "#ed7953"
             ],
             [
              0.7777777777777778,
              "#fb9f3a"
             ],
             [
              0.8888888888888888,
              "#fdca26"
             ],
             [
              1,
              "#f0f921"
             ]
            ],
            "type": "histogram2dcontour"
           }
          ],
          "mesh3d": [
           {
            "colorbar": {
             "outlinewidth": 0,
             "ticks": ""
            },
            "type": "mesh3d"
           }
          ],
          "parcoords": [
           {
            "line": {
             "colorbar": {
              "outlinewidth": 0,
              "ticks": ""
             }
            },
            "type": "parcoords"
           }
          ],
          "pie": [
           {
            "automargin": true,
            "type": "pie"
           }
          ],
          "scatter": [
           {
            "fillpattern": {
             "fillmode": "overlay",
             "size": 10,
             "solidity": 0.2
            },
            "type": "scatter"
           }
          ],
          "scatter3d": [
           {
            "line": {
             "colorbar": {
              "outlinewidth": 0,
              "ticks": ""
             }
            },
            "marker": {
             "colorbar": {
              "outlinewidth": 0,
              "ticks": ""
             }
            },
            "type": "scatter3d"
           }
          ],
          "scattercarpet": [
           {
            "marker": {
             "colorbar": {
              "outlinewidth": 0,
              "ticks": ""
             }
            },
            "type": "scattercarpet"
           }
          ],
          "scattergeo": [
           {
            "marker": {
             "colorbar": {
              "outlinewidth": 0,
              "ticks": ""
             }
            },
            "type": "scattergeo"
           }
          ],
          "scattergl": [
           {
            "marker": {
             "colorbar": {
              "outlinewidth": 0,
              "ticks": ""
             }
            },
            "type": "scattergl"
           }
          ],
          "scattermapbox": [
           {
            "marker": {
             "colorbar": {
              "outlinewidth": 0,
              "ticks": ""
             }
            },
            "type": "scattermapbox"
           }
          ],
          "scatterpolar": [
           {
            "marker": {
             "colorbar": {
              "outlinewidth": 0,
              "ticks": ""
             }
            },
            "type": "scatterpolar"
           }
          ],
          "scatterpolargl": [
           {
            "marker": {
             "colorbar": {
              "outlinewidth": 0,
              "ticks": ""
             }
            },
            "type": "scatterpolargl"
           }
          ],
          "scatterternary": [
           {
            "marker": {
             "colorbar": {
              "outlinewidth": 0,
              "ticks": ""
             }
            },
            "type": "scatterternary"
           }
          ],
          "surface": [
           {
            "colorbar": {
             "outlinewidth": 0,
             "ticks": ""
            },
            "colorscale": [
             [
              0,
              "#0d0887"
             ],
             [
              0.1111111111111111,
              "#46039f"
             ],
             [
              0.2222222222222222,
              "#7201a8"
             ],
             [
              0.3333333333333333,
              "#9c179e"
             ],
             [
              0.4444444444444444,
              "#bd3786"
             ],
             [
              0.5555555555555556,
              "#d8576b"
             ],
             [
              0.6666666666666666,
              "#ed7953"
             ],
             [
              0.7777777777777778,
              "#fb9f3a"
             ],
             [
              0.8888888888888888,
              "#fdca26"
             ],
             [
              1,
              "#f0f921"
             ]
            ],
            "type": "surface"
           }
          ],
          "table": [
           {
            "cells": {
             "fill": {
              "color": "#EBF0F8"
             },
             "line": {
              "color": "white"
             }
            },
            "header": {
             "fill": {
              "color": "#C8D4E3"
             },
             "line": {
              "color": "white"
             }
            },
            "type": "table"
           }
          ]
         },
         "layout": {
          "annotationdefaults": {
           "arrowcolor": "#2a3f5f",
           "arrowhead": 0,
           "arrowwidth": 1
          },
          "autotypenumbers": "strict",
          "coloraxis": {
           "colorbar": {
            "outlinewidth": 0,
            "ticks": ""
           }
          },
          "colorscale": {
           "diverging": [
            [
             0,
             "#8e0152"
            ],
            [
             0.1,
             "#c51b7d"
            ],
            [
             0.2,
             "#de77ae"
            ],
            [
             0.3,
             "#f1b6da"
            ],
            [
             0.4,
             "#fde0ef"
            ],
            [
             0.5,
             "#f7f7f7"
            ],
            [
             0.6,
             "#e6f5d0"
            ],
            [
             0.7,
             "#b8e186"
            ],
            [
             0.8,
             "#7fbc41"
            ],
            [
             0.9,
             "#4d9221"
            ],
            [
             1,
             "#276419"
            ]
           ],
           "sequential": [
            [
             0,
             "#0d0887"
            ],
            [
             0.1111111111111111,
             "#46039f"
            ],
            [
             0.2222222222222222,
             "#7201a8"
            ],
            [
             0.3333333333333333,
             "#9c179e"
            ],
            [
             0.4444444444444444,
             "#bd3786"
            ],
            [
             0.5555555555555556,
             "#d8576b"
            ],
            [
             0.6666666666666666,
             "#ed7953"
            ],
            [
             0.7777777777777778,
             "#fb9f3a"
            ],
            [
             0.8888888888888888,
             "#fdca26"
            ],
            [
             1,
             "#f0f921"
            ]
           ],
           "sequentialminus": [
            [
             0,
             "#0d0887"
            ],
            [
             0.1111111111111111,
             "#46039f"
            ],
            [
             0.2222222222222222,
             "#7201a8"
            ],
            [
             0.3333333333333333,
             "#9c179e"
            ],
            [
             0.4444444444444444,
             "#bd3786"
            ],
            [
             0.5555555555555556,
             "#d8576b"
            ],
            [
             0.6666666666666666,
             "#ed7953"
            ],
            [
             0.7777777777777778,
             "#fb9f3a"
            ],
            [
             0.8888888888888888,
             "#fdca26"
            ],
            [
             1,
             "#f0f921"
            ]
           ]
          },
          "colorway": [
           "#636efa",
           "#EF553B",
           "#00cc96",
           "#ab63fa",
           "#FFA15A",
           "#19d3f3",
           "#FF6692",
           "#B6E880",
           "#FF97FF",
           "#FECB52"
          ],
          "font": {
           "color": "#2a3f5f"
          },
          "geo": {
           "bgcolor": "white",
           "lakecolor": "white",
           "landcolor": "#E5ECF6",
           "showlakes": true,
           "showland": true,
           "subunitcolor": "white"
          },
          "hoverlabel": {
           "align": "left"
          },
          "hovermode": "closest",
          "mapbox": {
           "style": "light"
          },
          "paper_bgcolor": "white",
          "plot_bgcolor": "#E5ECF6",
          "polar": {
           "angularaxis": {
            "gridcolor": "white",
            "linecolor": "white",
            "ticks": ""
           },
           "bgcolor": "#E5ECF6",
           "radialaxis": {
            "gridcolor": "white",
            "linecolor": "white",
            "ticks": ""
           }
          },
          "scene": {
           "xaxis": {
            "backgroundcolor": "#E5ECF6",
            "gridcolor": "white",
            "gridwidth": 2,
            "linecolor": "white",
            "showbackground": true,
            "ticks": "",
            "zerolinecolor": "white"
           },
           "yaxis": {
            "backgroundcolor": "#E5ECF6",
            "gridcolor": "white",
            "gridwidth": 2,
            "linecolor": "white",
            "showbackground": true,
            "ticks": "",
            "zerolinecolor": "white"
           },
           "zaxis": {
            "backgroundcolor": "#E5ECF6",
            "gridcolor": "white",
            "gridwidth": 2,
            "linecolor": "white",
            "showbackground": true,
            "ticks": "",
            "zerolinecolor": "white"
           }
          },
          "shapedefaults": {
           "line": {
            "color": "#2a3f5f"
           }
          },
          "ternary": {
           "aaxis": {
            "gridcolor": "white",
            "linecolor": "white",
            "ticks": ""
           },
           "baxis": {
            "gridcolor": "white",
            "linecolor": "white",
            "ticks": ""
           },
           "bgcolor": "#E5ECF6",
           "caxis": {
            "gridcolor": "white",
            "linecolor": "white",
            "ticks": ""
           }
          },
          "title": {
           "x": 0.05
          },
          "xaxis": {
           "automargin": true,
           "gridcolor": "white",
           "linecolor": "white",
           "ticks": "",
           "title": {
            "standoff": 15
           },
           "zerolinecolor": "white",
           "zerolinewidth": 2
          },
          "yaxis": {
           "automargin": true,
           "gridcolor": "white",
           "linecolor": "white",
           "ticks": "",
           "title": {
            "standoff": 15
           },
           "zerolinecolor": "white",
           "zerolinewidth": 2
          }
         }
        },
        "xaxis": {
         "anchor": "y",
         "domain": [
          0,
          1
         ],
         "title": {
          "text": "cycles"
         },
         "type": "log"
        },
        "yaxis": {
         "anchor": "x",
         "domain": [
          0,
          1
         ],
         "title": {
          "text": "amplitude"
         },
         "type": "log"
        }
       }
      }
     },
     "metadata": {},
     "output_type": "display_data"
    }
   ],
   "source": [
    "wc = mat.woehler\n",
    "cyc = np.logspace(1, 12, 200)\n",
    "sn_df = pd.DataFrame({\"cycles\": cyc,\n",
    "                     \"amplitude\": wc.basquin_load(cyc)})\n",
    "fig = px.bar(load_cycles, x=\"cycles\", y=\"amplitude\", orientation='h',   log_x=True, log_y=True)\n",
    "fig.add_scatter(x=sn_df.cycles, y=sn_df.amplitude, name=\"sn curve\")\n",
    "fig.show()"
   ]
  }
 ],
 "metadata": {
  "kernelspec": {
   "display_name": "Python 3 (ipykernel)",
   "language": "python",
   "name": "python3"
  },
  "language_info": {
   "codemirror_mode": {
    "name": "ipython",
    "version": 3
   },
   "file_extension": ".py",
   "mimetype": "text/x-python",
   "name": "python",
   "nbconvert_exporter": "python",
   "pygments_lexer": "ipython3",
   "version": "3.10.13"
  }
 },
 "nbformat": 4,
 "nbformat_minor": 4
}

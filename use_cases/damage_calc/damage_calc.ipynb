{
 "cells": [
  {
   "cell_type": "markdown",
   "metadata": {},
   "source": [
    "# Damage Calculation\n",
    "\n",
    "This notebook shows a general calculation stream for a nominal damage calculation.\n",
    "\n",
    "1. Define load cycles\n",
    "2. Define the material parameter\n",
    "3. Select the damage calculation method (Miner elementary, Miner-Haibach, ...)\n",
    "4. Calculate the damage for every load level and the damage sum\n"
   ]
  },
  {
   "cell_type": "code",
   "execution_count": 1,
   "metadata": {},
   "outputs": [],
   "source": [
    "import numpy as np\n",
    "import pandas as pd\n",
    "import pylife.strength.fatigue\n",
    "import plotly.express as px"
   ]
  },
  {
   "cell_type": "markdown",
   "metadata": {},
   "source": [
    "### 1. Define load cycles\n"
   ]
  },
  {
   "cell_type": "code",
   "execution_count": 2,
   "metadata": {},
   "outputs": [],
   "source": [
    "load_cycles = pd.DataFrame(\n",
    "    {\n",
    "        \"amplitude\": [100, 50, 75, 25],\n",
    "        \"cycles\": [1e3, 5e3, 10e3, 25e3],\n",
    "    }\n",
    ")"
   ]
  },
  {
   "cell_type": "code",
   "execution_count": 3,
   "metadata": {},
   "outputs": [
    {
     "data": {
      "text/html": [
       "<div>\n",
       "<style scoped>\n",
       "    .dataframe tbody tr th:only-of-type {\n",
       "        vertical-align: middle;\n",
       "    }\n",
       "\n",
       "    .dataframe tbody tr th {\n",
       "        vertical-align: top;\n",
       "    }\n",
       "\n",
       "    .dataframe thead th {\n",
       "        text-align: right;\n",
       "    }\n",
       "</style>\n",
       "<table border=\"1\" class=\"dataframe\">\n",
       "  <thead>\n",
       "    <tr style=\"text-align: right;\">\n",
       "      <th></th>\n",
       "      <th>amplitude</th>\n",
       "      <th>cycles</th>\n",
       "    </tr>\n",
       "  </thead>\n",
       "  <tbody>\n",
       "    <tr>\n",
       "      <th>0</th>\n",
       "      <td>100</td>\n",
       "      <td>1000.0</td>\n",
       "    </tr>\n",
       "    <tr>\n",
       "      <th>1</th>\n",
       "      <td>50</td>\n",
       "      <td>5000.0</td>\n",
       "    </tr>\n",
       "    <tr>\n",
       "      <th>2</th>\n",
       "      <td>75</td>\n",
       "      <td>10000.0</td>\n",
       "    </tr>\n",
       "    <tr>\n",
       "      <th>3</th>\n",
       "      <td>25</td>\n",
       "      <td>25000.0</td>\n",
       "    </tr>\n",
       "  </tbody>\n",
       "</table>\n",
       "</div>"
      ],
      "text/plain": [
       "   amplitude   cycles\n",
       "0        100   1000.0\n",
       "1         50   5000.0\n",
       "2         75  10000.0\n",
       "3         25  25000.0"
      ]
     },
     "execution_count": 3,
     "metadata": {},
     "output_type": "execute_result"
    }
   ],
   "source": [
    "load_cycles"
   ]
  },
  {
   "cell_type": "code",
   "execution_count": 4,
   "metadata": {},
   "outputs": [
    {
     "data": {
      "text/plain": [
       "<Axes: ylabel='cycles'>"
      ]
     },
     "execution_count": 4,
     "metadata": {},
     "output_type": "execute_result"
    },
    {
     "data": {
      "image/png": "[encoded data removed]",
      "text/plain": [
       "<Figure size 640x480 with 1 Axes>"
      ]
     },
     "metadata": {},
     "output_type": "display_data"
    }
   ],
   "source": [
    "load_cycles.plot.barh(x=\"cycles\", y=\"amplitude\")"
   ]
  },
  {
   "cell_type": "markdown",
   "metadata": {},
   "source": [
    "## 2. Define the material parameter\n"
   ]
  },
  {
   "cell_type": "code",
   "execution_count": null,
   "metadata": {},
   "outputs": [],
   "source": [
    "k_1 = 8\n",
    "mat = pd.Series(\n",
    "    {\n",
    "        \"k_1\": k_1,\n",
    "        # 'k_2' : 2 * k_1 - 1,\n",
    "        \"ND\": 1.0e6,\n",
    "        \"SD\": 100.0,\n",
    "        \"TN\": 12.0,\n",
    "        \"TS\": 1.1,\n",
    "    }\n",
    ")\n",
    "display(mat.to_frame().T)"
   ]
  },
  {
   "cell_type": "markdown",
   "metadata": {},
   "source": [
    "### Damage Calculation\n",
    "\n",
    "Now we can calculate the damage for every loadstep and summarize this damage to get the total damage.\n"
   ]
  },
  {
   "cell_type": "code",
   "execution_count": null,
   "metadata": {},
   "outputs": [],
   "source": [
    "damage = {\n",
    "    \"miner_original\": mat.fatigue.damage(load_cycles),\n",
    "    \"miner_elementary\": mat.fatigue.miner_elementary().damage(load_cycles),\n",
    "    \"miner_haibach\": mat.fatigue.miner_haibach().damage(load_cycles),\n",
    "}\n",
    "pr_out = [\n",
    "    print(\"total damage sum \" + k + \" :  %.2e\" % v.sum()) for k, v in damage.items()\n",
    "]"
   ]
  },
  {
   "cell_type": "markdown",
   "metadata": {
    "collapsed": true,
    "jupyter": {
     "outputs_hidden": true
    }
   },
   "source": [
    "#### Plot the damage vs collectives\n"
   ]
  },
  {
   "cell_type": "code",
   "execution_count": null,
   "metadata": {},
   "outputs": [],
   "source": [
    "cyc = np.logspace(1, 12, 200)\n",
    "fig = px.bar(\n",
    "    load_cycles, x=\"cycles\", y=\"amplitude\", orientation=\"h\", log_x=True, log_y=True\n",
    ")\n",
    "for method, k_2 in zip(damage.keys(), [-np.inf, k_1, 2 * k_1 - 1]):\n",
    "    mat_act = mat.copy()\n",
    "    mat_act[\"k_2\"] = k_2\n",
    "    wc = mat_act.woehler\n",
    "    sn_df = pd.DataFrame({\"cycles\": cyc, \"amplitude\": wc.basquin_load(cyc)})\n",
    "    fig.add_scatter(x=sn_df.cycles, y=sn_df.amplitude, name=method)\n",
    "fig.show()"
   ]
  }
 ],
 "metadata": {
  "kernelspec": {
   "display_name": "Python 3 (ipykernel)",
   "language": "python",
   "name": "python3"
  },
  "language_info": {
   "codemirror_mode": {
    "name": "ipython",
    "version": 3
   },
   "file_extension": ".py",
   "mimetype": "text/x-python",
   "name": "python",
   "nbconvert_exporter": "python",
   "pygments_lexer": "ipython3",
   "version": "3.10.13"
  }
 },
 "nbformat": 4,
 "nbformat_minor": 4
}
